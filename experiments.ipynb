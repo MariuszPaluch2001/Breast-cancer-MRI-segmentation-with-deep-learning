{
  "cells": [
    {
      "cell_type": "code",
      "execution_count": null,
      "metadata": {
        "colab": {
          "base_uri": "https://localhost:8080/"
        },
        "id": "MycsshgndcYI",
        "outputId": "a7968562-6ceb-4ca7-8a2a-ced1201aa6fd"
      },
      "outputs": [],
      "source": [
        "from utils.fetch_dataset import fetch_dataset\n",
        "from utils.quality_measures import *\n",
        "from utils.save_plots import output_scatter_plot\n",
        "from utils.adjust_tensor import adjust_tensor\n",
        "\n",
        "from dataset import MRIDataset\n",
        "from unet import UNet3D"
      ]
    },
    {
      "cell_type": "code",
      "execution_count": 1,
      "metadata": {
        "id": "T7dpHzNWlp27"
      },
      "outputs": [],
      "source": [
        "fetch_dataset()"
      ]
    },
    {
      "cell_type": "code",
      "execution_count": 5,
      "metadata": {
        "id": "RN4BdO3TVg2i"
      },
      "outputs": [],
      "source": [
        "BATCH_SIZE = 1\n",
        "IN_CHANNELS = 1\n",
        "EPOCHS = 1\n",
        "\n",
        "SHOW_IMAGES = True"
      ]
    },
    {
      "cell_type": "code",
      "execution_count": 6,
      "metadata": {
        "id": "62DwKtcWTwD7"
      },
      "outputs": [],
      "source": [
        "from torch.utils.data import DataLoader\n",
        "\n",
        "dataset = MRIDataset()\n",
        "\n",
        "train_dataset, test_dataset = torch.utils.data.random_split(dataset, [0.8, 0.2])\n",
        "\n",
        "train_dataloader = DataLoader(train_dataset, batch_size=BATCH_SIZE, shuffle=True)\n",
        "test_dataloader = DataLoader(test_dataset, batch_size=1, shuffle=False)"
      ]
    },
    {
      "cell_type": "code",
      "execution_count": null,
      "metadata": {
        "colab": {
          "base_uri": "https://localhost:8080/"
        },
        "id": "JcMgTxJXPfhi",
        "outputId": "6b554cb1-a1dc-4753-e819-4200418ec678"
      },
      "outputs": [],
      "source": [
        "model = UNet3D(IN_CHANNELS, 1)\n",
        "model"
      ]
    },
    {
      "cell_type": "code",
      "execution_count": null,
      "metadata": {
        "colab": {
          "base_uri": "https://localhost:8080/"
        },
        "id": "aOP3cX3aXW45",
        "outputId": "72b915ab-f54e-46b1-9b4e-2955435112d5"
      },
      "outputs": [],
      "source": [
        "device = torch.device('cuda' if torch.cuda.is_available() else 'cpu')\n",
        "device"
      ]
    },
    {
      "cell_type": "code",
      "execution_count": 9,
      "metadata": {
        "id": "l5yCZcBrRZwy"
      },
      "outputs": [],
      "source": [
        "import torch\n",
        "import torch.nn.functional as F\n",
        "\n",
        "\n",
        "def adjust_tensor(data, mask):\n",
        "    _, _, D, H, W = data.shape\n",
        "\n",
        "    assert H % 2 == 0 and W % 2 == 0, \"Wymiary H i W muszą być podzielne przez 2.\"\n",
        "\n",
        "    yield data[:, :, :D//2, :H//2, :W//2], mask[:, :, :D//2, :H//2, :W//2]\n",
        "\n",
        "    yield data[:, :, :D//2, :H//2, W//2:], mask[:, :, :D//2, :H//2, W//2:]\n",
        "\n",
        "    yield data[:, :, :D//2, H//2:, :W//2], mask[:, :, :D//2, H//2:, :W//2]\n",
        "\n",
        "    yield data[:, :, :D//2, H//2:, W//2:], mask[:, :, :D//2, H//2:, W//2:]\n",
        "\n",
        "    yield data[:, :, D//2:, :H//2, :W//2], mask[:, :, D//2:, :H//2, :W//2]\n",
        "\n",
        "    yield data[:, :, D//2:, :H//2, W//2:], mask[:, :, D//2:, :H//2, W//2:]\n",
        "\n",
        "    yield data[:, :, D//2:, H//2:, :W//2], mask[:, :, D//2:, H//2:, :W//2]\n",
        "\n",
        "    yield data[:, :, D//2:, H//2:, W//2:], mask[:, :, D//2:, H//2:, W//2:]"
      ]
    },
    {
      "cell_type": "code",
      "execution_count": null,
      "metadata": {
        "colab": {
          "base_uri": "https://localhost:8080/",
          "height": 386
        },
        "id": "rmspsWT0DKBI",
        "outputId": "238f55a9-dad5-4483-ab45-0947252fcfa2"
      },
      "outputs": [],
      "source": [
        "from torch.nn import BCEWithLogitsLoss\n",
        "from torch.optim import Adam\n",
        "\n",
        "def test_sizing(dshape: tuple, dtype = torch.float32):\n",
        "    data = torch.randn(dshape, dtype=dtype)\n",
        "    data = data.float().to(device)\n",
        "    print(f'Data shape: {data.shape}')\n",
        "    mask = torch.randn(dshape, dtype=dtype)\n",
        "    mask = mask.float().to(device)\n",
        "    print(f'Mask shape: {mask.shape}')\n",
        "\n",
        "    model = UNet3D(1, 1)\n",
        "    model = model.to(device)\n",
        "    model.train()\n",
        "\n",
        "    criterion = BCEWithLogitsLoss()\n",
        "    optimizer = Adam(params=model.parameters())\n",
        "\n",
        "    for chunked_data, chunked_mask in adjust_tensor(data, mask):\n",
        "        out = model(chunked_data)\n",
        "        loss = criterion(out, chunked_mask)\n",
        "        loss.backward()\n",
        "        optimizer.step()\n",
        "\n",
        "test_sizing(dshape=(1,1, 240, 448, 448))"
      ]
    },
    {
      "cell_type": "code",
      "execution_count": null,
      "metadata": {
        "colab": {
          "base_uri": "https://localhost:8080/",
          "height": 1000
        },
        "collapsed": true,
        "id": "L_V0XpDeyJVK",
        "outputId": "76c8e35e-6e17-4455-e1b6-39517dca8fb7"
      },
      "outputs": [],
      "source": [
        "from torch.nn import BCEWithLogitsLoss\n",
        "from torch.optim import Adam\n",
        "\n",
        "criterion = BCEWithLogitsLoss()\n",
        "optimizer = Adam(params=model.parameters())\n",
        "\n",
        "model = model.to(device)\n",
        "\n",
        "for epoch in range(EPOCHS):\n",
        "    train_loss = 0.0\n",
        "    model.train()\n",
        "    i = 0\n",
        "    for idx, (data, mask) in enumerate(train_dataloader):\n",
        "      for part_idx, (chunked_data, chunked_mask) in enumerate(adjust_tensor(data, mask.unsqueeze(0))):\n",
        "        chunked_data = chunked_data.float().to(device)\n",
        "        chunked_mask = chunked_mask.float().to(device)\n",
        "        optimizer.zero_grad()\n",
        "        output = model(chunked_data)\n",
        "        loss = criterion(output, chunked_mask)\n",
        "        if i % 3 == 0:\n",
        "          print(f\"Scan loss: {loss}\")\n",
        "          output_scatter_plot((output.squeeze(0).squeeze(0) > 0).float(), chunked_mask.squeeze(0).squeeze(0), epoch, idx, part_idx)\n",
        "        loss.backward()\n",
        "        optimizer.step()\n",
        "\n",
        "        train_loss += loss.item()\n",
        "        i += 1\n",
        "    print(f\"Loss: {train_loss / i}\")"
      ]
    },
    {
      "cell_type": "code",
      "execution_count": null,
      "metadata": {
        "colab": {
          "base_uri": "https://localhost:8080/",
          "height": 1000
        },
        "id": "_oJ0JGiZR5ld",
        "outputId": "32e4a478-55a8-4bf6-e209-73677e56fea3"
      },
      "outputs": [],
      "source": [
        "model.eval()\n",
        "i = 0\n",
        "for idx, (data, mask) in enumerate(test_dataloader):\n",
        "    data = data.float().to(device)\n",
        "    mask = mask.float().to(device)\n",
        "    for part_idx, (chunked_data, chunked_mask) in enumerate(adjust_tensor(data, mask.unsqueeze(0))):\n",
        "        chunked_data = chunked_data.float().to(device)\n",
        "        chunked_mask = chunked_mask.float().to(device).squeeze(0).squeeze(0)\n",
        "        output = model(chunked_data).squeeze(0).squeeze(0)\n",
        "\n",
        "        evaluate(output, chunked_mask)\n",
        "        if SHOW_IMAGES:\n",
        "          output_scatter_plot((output > 0).float(), chunked_mask, None, idx, part_idx)"
      ]
    }
  ],
  "metadata": {
    "accelerator": "TPU",
    "colab": {
      "gpuType": "V28",
      "provenance": []
    },
    "kernelspec": {
      "display_name": "env",
      "language": "python",
      "name": "python3"
    },
    "language_info": {
      "name": "python",
      "version": "3.11.4"
    }
  },
  "nbformat": 4,
  "nbformat_minor": 0
}
